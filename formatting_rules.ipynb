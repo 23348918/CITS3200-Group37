{
 "cells": [
  {
   "cell_type": "markdown",
   "metadata": {},
   "source": [
    "# Github Rules\n",
    "- No committing to main\n",
    "- 1 person per branch. If two people work on the same feature, make a feature branch and make individual branches off from that\n",
    "- No merging your own pull request (ask someone else to merge)\n",
    "- Delete branch after merged\n",
    "- Only merge branches with formatted code"
   ]
  },
  {
   "cell_type": "markdown",
   "metadata": {},
   "source": [
    "# Naming Conventions"
   ]
  },
  {
   "cell_type": "markdown",
   "metadata": {},
   "source": [
    "#### Following python standard - https://peps.python.org/pep-0008/"
   ]
  },
  {
   "cell_type": "markdown",
   "metadata": {},
   "source": [
    "**Files, Directories, Variable** : snake_case, all lower, \"_\" separated (eg: variable_name) <br>\n",
    "**Constants** : All caps, _ separated (eg: MAX_VALUE) <br>\n",
    "**Classes** (we probably won't use) : CamelCase, no spaces, caps first letter each word (eg: ObjectBuilder) <br>\n",
    "**Git Branch Names** : LRS-123-Branch-Name <br>\n",
    "**Git Commit Messages** : LRS-123 \\<message\\> <br>\n",
    "**Git Pull Requests** - TBD"
   ]
  },
  {
   "cell_type": "markdown",
   "metadata": {},
   "source": [
    "# Coding"
   ]
  },
  {
   "cell_type": "markdown",
   "metadata": {},
   "source": [
    "#### Simple Ones\n",
    "- keep everything inside functions except constants, imports and if \\_\\_name__ == main <br>\n",
    "- begin executing with if \\_\\_name__ == main: main() at the end with a main function directly above <br>\n",
    "- functions should be less than 50 lines of code. Main should be less than 30. If it's larger, probably use a helper function <br>\n",
    "- 2 new lines between functions <br>\n",
    "- use Australian English (chatgpt uses American if you do use it, convert it to Aussie) <br>\n",
    "- descriptive variable names, try not to use shortened versions for even simple things <br>\n",
    "- use raise for errors (eg: raise ValueError(\"invalid number\")) ???<br>\n",
    "- print with f strings (eg: print(f\"successfuly opened {file_name}\"))\n"
   ]
  },
  {
   "cell_type": "markdown",
   "metadata": {},
   "source": [
    "#### Explicit Typing\n",
    "Follow this format. Explicitly state the types of parameters, return type and variables. If you are confused, you can probably just copy the code into chatgpt or something and ask it to implement explicit typing for parameters, return type and variables."
   ]
  },
  {
   "cell_type": "code",
   "execution_count": 11,
   "metadata": {},
   "outputs": [
    {
     "data": {
      "text/plain": [
       "[1, 4, 9, 16]"
      ]
     },
     "execution_count": 11,
     "metadata": {},
     "output_type": "execute_result"
    }
   ],
   "source": [
    "from typing import List\n",
    "\n",
    "def square_numbers(x: int) -> List[int]:\n",
    "    squares = []\n",
    "    for i in range(1, x+1):\n",
    "        squares.append(i * i)\n",
    "    return squares\n",
    "\n",
    "test : int = 4\n",
    "square_numbers(test)"
   ]
  },
  {
   "cell_type": "markdown",
   "metadata": {},
   "source": [
    "#### Comment Format\n",
    "Following google comments format. For specific code use # but only sparingly. With clear variable names, it should be obvious what the code does. <br>\n",
    "https://google.github.io/styleguide/pyguide.html#doc-function-args"
   ]
  },
  {
   "cell_type": "code",
   "execution_count": 10,
   "metadata": {},
   "outputs": [
    {
     "data": {
      "text/plain": [
       "[1, 4, 9, 16]"
      ]
     },
     "execution_count": 10,
     "metadata": {},
     "output_type": "execute_result"
    }
   ],
   "source": [
    "from typing import List\n",
    "\n",
    "def square_numbers(x: int) -> List[int]:\n",
    "    \"\"\"A function to make a list of square numbers\n",
    "    \n",
    "    Args:\n",
    "        x: The highest number you want a square of\n",
    "\n",
    "    Returns: \n",
    "        An array of squares from 1^2 to x^2\n",
    "    \"\"\"\n",
    "    squares = []\n",
    "    for i in range(1, x+1):\n",
    "        squares.append(i * i)\n",
    "    return squares\n",
    "\n",
    "test : int = 4\n",
    "square_numbers(test)"
   ]
  },
  {
   "cell_type": "markdown",
   "metadata": {},
   "source": [
    "#### Looping Through Options"
   ]
  },
  {
   "cell_type": "markdown",
   "metadata": {},
   "source": [
    "instead of using if, elif you can use a dictionary (where it makes sense). For example:"
   ]
  },
  {
   "cell_type": "code",
   "execution_count": 5,
   "metadata": {},
   "outputs": [],
   "source": [
    "from typing import Dict\n",
    "\n",
    "def apple_function(): print(\"apple\")\n",
    "def pear_function(): print(\"pear\")\n",
    "def bannana_function(): print(\"bannana\")\n",
    "def watermelon_function(): print(\"watermelon\")\n",
    "\n",
    "\n",
    "def if_else_implementation(fruit : str) -> None:\n",
    "    if fruit == \"apple\":\n",
    "        apple_function()\n",
    "    elif fruit == \"pear\":\n",
    "        pear_function()\n",
    "    elif fruit == \"bannana\":\n",
    "        bannana_function()\n",
    "    elif fruit == \"watermelon\":\n",
    "        watermelon_function()\n",
    "    else:\n",
    "        raise ValueError(\"Invalid Fruit\")\n",
    "    \n",
    "\n",
    "FRUIT_DICT : Dict = {\n",
    "    \"apple\" : apple_function,\n",
    "    \"pear\" : pear_function,\n",
    "    \"bannana\" : bannana_function,\n",
    "    \"watermelon\" : watermelon_function\n",
    "}\n",
    "\n",
    "def dictionary_implementation(fruit : str) -> None:\n",
    "    if fruit in FRUIT_DICT:\n",
    "        FRUIT_DICT[fruit]()\n",
    "    else:\n",
    "        raise ValueError(\"Invalid Fruit\")"
   ]
  },
  {
   "cell_type": "markdown",
   "metadata": {},
   "source": [
    "#### Iterators\n",
    "In cases with lots of data where you have to operate on all of them (like apply interference on image or feed to API) iterators make it so you don't have to store it in memory which is good."
   ]
  },
  {
   "cell_type": "code",
   "execution_count": 9,
   "metadata": {},
   "outputs": [
    {
     "name": "stdout",
     "output_type": "stream",
     "text": [
      "1\n",
      "4\n",
      "9\n",
      "16\n"
     ]
    }
   ],
   "source": [
    "from typing import Iterator\n",
    "\n",
    "def square_numbers(x: int) -> Iterator[int]:\n",
    "    \"\"\"A function to make a list of square numbers\n",
    "    \n",
    "    Args:\n",
    "        x: The highest number you want a square of\n",
    "\n",
    "    Returns: \n",
    "        An array of squares from 1^2 to x^2\n",
    "    \"\"\"\n",
    "    for i in range(1, x+1):\n",
    "        yield i*i\n",
    "\n",
    "test : int = 4\n",
    "for num in square_numbers(test):\n",
    "    print(num)"
   ]
  }
 ],
 "metadata": {
  "kernelspec": {
   "display_name": "uni",
   "language": "python",
   "name": "python3"
  },
  "language_info": {
   "codemirror_mode": {
    "name": "ipython",
    "version": 3
   },
   "file_extension": ".py",
   "mimetype": "text/x-python",
   "name": "python",
   "nbconvert_exporter": "python",
   "pygments_lexer": "ipython3",
   "version": "3.12.2"
  }
 },
 "nbformat": 4,
 "nbformat_minor": 2
}
